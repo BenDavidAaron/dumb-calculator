{
 "cells": [
  {
   "cell_type": "markdown",
   "metadata": {},
   "source": [
    "Import dependancies\n",
    "setup some helper functions"
   ]
  },
  {
   "cell_type": "code",
   "execution_count": 1,
   "metadata": {
    "scrolled": true
   },
   "outputs": [
    {
     "name": "stderr",
     "output_type": "stream",
     "text": [
      "Using TensorFlow backend.\n",
      "/Users/Ben/miniconda3/lib/python3.6/site-packages/sklearn/cross_validation.py:41: DeprecationWarning: This module was deprecated in version 0.18 in favor of the model_selection module into which all the refactored classes and functions are moved. Also note that the interface of the new CV iterators are different from that of this module. This module will be removed in 0.20.\n",
      "  \"This module will be removed in 0.20.\", DeprecationWarning)\n"
     ]
    }
   ],
   "source": [
    "import numpy as np\n",
    "import pandas as pd\n",
    "from keras.models import Sequential\n",
    "from keras.layers.core import Dense, Activation\n",
    "from sklearn.cross_validation import train_test_split\n",
    "import dill"
   ]
  },
  {
   "cell_type": "code",
   "execution_count": 2,
   "metadata": {},
   "outputs": [],
   "source": [
    "def one_hot_encode(arr):\n",
    "    #one hot encodes a class based result\n",
    "    newArr = np.zeros((arr.size, arr.max()+1))\n",
    "    newArr[np.arange(arr.size),arr] = 1\n",
    "    return newArr\n",
    "\n",
    "def un_hot_encode(arr):\n",
    "    #reverts one hot encoding\n",
    "    return np.transpose(np.nonzero(np.around(arr)))[0][0]"
   ]
  },
  {
   "cell_type": "markdown",
   "metadata": {},
   "source": [
    "load some data"
   ]
  },
  {
   "cell_type": "code",
   "execution_count": 3,
   "metadata": {},
   "outputs": [],
   "source": [
    "train_data = pd.read_csv('cases.csv')\n",
    "X = train_data[['Q1','Q2']].as_matrix()\n",
    "y = one_hot_encode(train_data['A'].as_matrix())"
   ]
  },
  {
   "cell_type": "markdown",
   "metadata": {},
   "source": [
    "Test train split our data"
   ]
  },
  {
   "cell_type": "code",
   "execution_count": 4,
   "metadata": {},
   "outputs": [],
   "source": [
    "X_train, X_test, y_train, y_test =\\\n",
    "train_test_split(X, y, test_size=100)"
   ]
  },
  {
   "cell_type": "code",
   "execution_count": 5,
   "metadata": {},
   "outputs": [
    {
     "data": {
      "text/plain": [
       "array([[2, 3],\n",
       "       [0, 9],\n",
       "       [0, 6],\n",
       "       [0, 7],\n",
       "       [0, 2],\n",
       "       [7, 8],\n",
       "       [4, 5],\n",
       "       [7, 7],\n",
       "       [8, 6],\n",
       "       [7, 3],\n",
       "       [9, 6],\n",
       "       [8, 0],\n",
       "       [4, 9],\n",
       "       [9, 4],\n",
       "       [5, 7],\n",
       "       [5, 4],\n",
       "       [0, 3],\n",
       "       [5, 8],\n",
       "       [2, 2],\n",
       "       [7, 4],\n",
       "       [3, 7],\n",
       "       [1, 6],\n",
       "       [5, 2],\n",
       "       [4, 3],\n",
       "       [5, 4],\n",
       "       [8, 3],\n",
       "       [1, 6],\n",
       "       [9, 8],\n",
       "       [8, 0],\n",
       "       [5, 7],\n",
       "       [4, 5],\n",
       "       [6, 9],\n",
       "       [9, 6],\n",
       "       [1, 8],\n",
       "       [8, 8],\n",
       "       [6, 9],\n",
       "       [1, 0],\n",
       "       [0, 4],\n",
       "       [0, 7],\n",
       "       [7, 4],\n",
       "       [3, 0],\n",
       "       [0, 2],\n",
       "       [0, 7],\n",
       "       [3, 2],\n",
       "       [1, 1],\n",
       "       [7, 9],\n",
       "       [8, 2],\n",
       "       [0, 3],\n",
       "       [8, 5],\n",
       "       [5, 6],\n",
       "       [8, 5],\n",
       "       [7, 1],\n",
       "       [9, 3],\n",
       "       [0, 3],\n",
       "       [4, 9],\n",
       "       [2, 2],\n",
       "       [6, 7],\n",
       "       [5, 3],\n",
       "       [9, 5],\n",
       "       [7, 0],\n",
       "       [7, 2],\n",
       "       [7, 1],\n",
       "       [5, 8],\n",
       "       [1, 7],\n",
       "       [6, 2],\n",
       "       [8, 1],\n",
       "       [0, 7],\n",
       "       [0, 3],\n",
       "       [6, 9],\n",
       "       [6, 4],\n",
       "       [2, 0],\n",
       "       [1, 2],\n",
       "       [9, 0],\n",
       "       [8, 2],\n",
       "       [2, 5],\n",
       "       [8, 5],\n",
       "       [5, 9],\n",
       "       [4, 0],\n",
       "       [2, 0],\n",
       "       [3, 1],\n",
       "       [7, 7],\n",
       "       [7, 0],\n",
       "       [0, 3],\n",
       "       [9, 7],\n",
       "       [1, 7],\n",
       "       [9, 8],\n",
       "       [8, 2],\n",
       "       [3, 7],\n",
       "       [9, 6],\n",
       "       [1, 1],\n",
       "       [5, 0],\n",
       "       [5, 4],\n",
       "       [1, 9],\n",
       "       [9, 5],\n",
       "       [8, 5],\n",
       "       [9, 1],\n",
       "       [1, 5],\n",
       "       [3, 4],\n",
       "       [4, 4],\n",
       "       [9, 1]])"
      ]
     },
     "execution_count": 5,
     "metadata": {},
     "output_type": "execute_result"
    }
   ],
   "source": [
    "X_test"
   ]
  },
  {
   "cell_type": "markdown",
   "metadata": {},
   "source": [
    "And its neural network time"
   ]
  },
  {
   "cell_type": "code",
   "execution_count": 5,
   "metadata": {},
   "outputs": [
    {
     "name": "stdout",
     "output_type": "stream",
     "text": [
      "Epoch 1/1\n",
      "999900/999900 [==============================] - 2374s 2ms/step - loss: 0.2028\n"
     ]
    },
    {
     "data": {
      "text/plain": [
       "<keras.callbacks.History at 0x1a1be19668>"
      ]
     },
     "execution_count": 5,
     "metadata": {},
     "output_type": "execute_result"
    }
   ],
   "source": [
    "model = Sequential()\n",
    "model.add(Dense(10, input_shape=(2,)))\n",
    "model.add(Activation('sigmoid'))\n",
    "model.add(Dense(19))\n",
    "model.add(Activation('softmax'))\n",
    "model.compile(loss='categorical_crossentropy', optimizer='adam')\n",
    "model.fit(X_train, y_train, verbose=1, batch_size=1, epochs=1)"
   ]
  },
  {
   "cell_type": "code",
   "execution_count": 6,
   "metadata": {},
   "outputs": [
    {
     "name": "stdout",
     "output_type": "stream",
     "text": [
      "100/100 [==============================] - 0s 333us/step\n"
     ]
    },
    {
     "data": {
      "text/plain": [
       "6.5579415240790695e-06"
      ]
     },
     "execution_count": 6,
     "metadata": {},
     "output_type": "execute_result"
    }
   ],
   "source": [
    "model.evaluate(X_test, y_test)"
   ]
  },
  {
   "cell_type": "code",
   "execution_count": 7,
   "metadata": {
    "scrolled": true
   },
   "outputs": [
    {
     "name": "stdout",
     "output_type": "stream",
     "text": [
      "11 11\n",
      "11 11\n",
      "4 4\n",
      "10 10\n",
      "6 6\n",
      "7 7\n",
      "7 7\n",
      "0 0\n",
      "9 9\n",
      "7 7\n",
      "2 2\n",
      "4 4\n",
      "9 9\n",
      "9 9\n",
      "15 15\n",
      "10 10\n",
      "10 10\n",
      "9 9\n",
      "3 3\n",
      "3 3\n",
      "5 5\n",
      "3 3\n",
      "9 9\n",
      "14 14\n",
      "8 8\n",
      "15 15\n",
      "0 0\n",
      "13 13\n",
      "9 9\n",
      "6 6\n",
      "8 8\n",
      "7 7\n",
      "10 10\n",
      "9 9\n",
      "9 9\n",
      "11 11\n",
      "8 8\n",
      "5 5\n",
      "1 1\n",
      "9 9\n",
      "13 13\n",
      "11 11\n",
      "11 11\n",
      "4 4\n",
      "4 4\n",
      "14 14\n",
      "8 8\n",
      "7 7\n",
      "6 6\n",
      "8 8\n",
      "7 7\n",
      "4 4\n",
      "12 12\n",
      "11 11\n",
      "5 5\n",
      "10 10\n",
      "7 7\n",
      "1 1\n",
      "14 14\n",
      "6 6\n",
      "8 8\n",
      "9 9\n",
      "4 4\n",
      "3 3\n",
      "12 12\n",
      "15 15\n",
      "11 11\n",
      "4 4\n",
      "17 17\n",
      "3 3\n",
      "9 9\n",
      "6 6\n",
      "7 7\n",
      "13 13\n",
      "11 11\n",
      "4 4\n",
      "11 11\n",
      "13 13\n",
      "5 5\n",
      "12 12\n",
      "13 13\n",
      "7 7\n",
      "10 10\n",
      "10 10\n",
      "5 5\n",
      "7 7\n",
      "14 14\n",
      "7 7\n",
      "6 6\n",
      "6 6\n",
      "3 3\n",
      "9 9\n",
      "5 5\n",
      "14 14\n",
      "8 8\n",
      "10 10\n",
      "7 7\n",
      "15 15\n",
      "10 10\n",
      "12 12\n"
     ]
    }
   ],
   "source": [
    "predictions = model.predict(X_test)\n",
    "for p, a in zip(predictions, y_test):\n",
    "    predicted_sum = un_hot_encode(np.around(p))\n",
    "    print(un_hot_encode(np.around(p)), un_hot_encode(a))"
   ]
  },
  {
   "cell_type": "markdown",
   "metadata": {},
   "source": [
    "that looks good to me, its probably overfitted, but for this use case (computing sums between 0+0 and 9+9) I'm not so sure that's a bad thing.\n",
    "\n",
    "Lets write it out to disk so we can deploy it later."
   ]
  },
  {
   "cell_type": "code",
   "execution_count": 8,
   "metadata": {},
   "outputs": [],
   "source": [
    "model.save('additionNet.h5')"
   ]
  },
  {
   "cell_type": "code",
   "execution_count": 15,
   "metadata": {},
   "outputs": [
    {
     "ename": "NameError",
     "evalue": "name 'model' is not defined",
     "output_type": "error",
     "traceback": [
      "\u001b[0;31m---------------------------------------------------------------------------\u001b[0m",
      "\u001b[0;31mNameError\u001b[0m                                 Traceback (most recent call last)",
      "\u001b[0;32m<ipython-input-15-a7ab210f85a1>\u001b[0m in \u001b[0;36m<module>\u001b[0;34m()\u001b[0m\n\u001b[0;32m----> 1\u001b[0;31m \u001b[0;32mdel\u001b[0m \u001b[0mmodel\u001b[0m\u001b[0;34m\u001b[0m\u001b[0m\n\u001b[0m",
      "\u001b[0;31mNameError\u001b[0m: name 'model' is not defined"
     ]
    }
   ],
   "source": [
    "del model"
   ]
  },
  {
   "cell_type": "code",
   "execution_count": 11,
   "metadata": {},
   "outputs": [],
   "source": [
    "from keras.models import load_model"
   ]
  },
  {
   "cell_type": "code",
   "execution_count": 16,
   "metadata": {},
   "outputs": [
    {
     "ename": "NameError",
     "evalue": "name 'load_model' is not defined",
     "output_type": "error",
     "traceback": [
      "\u001b[0;31m---------------------------------------------------------------------------\u001b[0m",
      "\u001b[0;31mNameError\u001b[0m                                 Traceback (most recent call last)",
      "\u001b[0;32m<ipython-input-16-b19d8562eda8>\u001b[0m in \u001b[0;36m<module>\u001b[0;34m()\u001b[0m\n\u001b[0;32m----> 1\u001b[0;31m \u001b[0mmodel\u001b[0m \u001b[0;34m=\u001b[0m \u001b[0mload_model\u001b[0m\u001b[0;34m(\u001b[0m\u001b[0;34m'additionNet.h5'\u001b[0m\u001b[0;34m)\u001b[0m\u001b[0;34m\u001b[0m\u001b[0m\n\u001b[0m",
      "\u001b[0;31mNameError\u001b[0m: name 'load_model' is not defined"
     ]
    }
   ],
   "source": [
    "model = load_model('additionNet.h5')"
   ]
  },
  {
   "cell_type": "code",
   "execution_count": null,
   "metadata": {},
   "outputs": [],
   "source": []
  }
 ],
 "metadata": {
  "kernelspec": {
   "display_name": "Python 3",
   "language": "python",
   "name": "python3"
  },
  "language_info": {
   "codemirror_mode": {
    "name": "ipython",
    "version": 3
   },
   "file_extension": ".py",
   "mimetype": "text/x-python",
   "name": "python",
   "nbconvert_exporter": "python",
   "pygments_lexer": "ipython3",
   "version": "3.6.3"
  }
 },
 "nbformat": 4,
 "nbformat_minor": 2
}
